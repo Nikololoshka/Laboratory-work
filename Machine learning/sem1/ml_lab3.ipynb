{
 "cells": [
  {
   "cell_type": "markdown",
   "metadata": {},
   "source": [
    "## Задание №1\n",
    "Набор данных Davis содержит рост, вес и пол 200 человек. Построить модель, показывающую приблизительную зависимость веса от роста и пола. Оценить вклад роста и пола в вес.\n",
    "Построить гистограмму величины (repwt - weight), т.е. разницы между заявленным человеком весом и его реальным весом. Аналогично для двух разных полов."
   ]
  },
  {
   "cell_type": "code",
   "execution_count": 38,
   "metadata": {},
   "outputs": [
    {
     "data": {
      "text/html": [
       "<div>\n",
       "<style scoped>\n",
       "    .dataframe tbody tr th:only-of-type {\n",
       "        vertical-align: middle;\n",
       "    }\n",
       "\n",
       "    .dataframe tbody tr th {\n",
       "        vertical-align: top;\n",
       "    }\n",
       "\n",
       "    .dataframe thead th {\n",
       "        text-align: right;\n",
       "    }\n",
       "</style>\n",
       "<table border=\"1\" class=\"dataframe\">\n",
       "  <thead>\n",
       "    <tr style=\"text-align: right;\">\n",
       "      <th></th>\n",
       "      <th>sex</th>\n",
       "      <th>weight</th>\n",
       "      <th>height</th>\n",
       "      <th>repwt</th>\n",
       "      <th>repht</th>\n",
       "    </tr>\n",
       "  </thead>\n",
       "  <tbody>\n",
       "    <tr>\n",
       "      <td>0</td>\n",
       "      <td>M</td>\n",
       "      <td>77</td>\n",
       "      <td>182</td>\n",
       "      <td>77.0</td>\n",
       "      <td>180.0</td>\n",
       "    </tr>\n",
       "    <tr>\n",
       "      <td>1</td>\n",
       "      <td>F</td>\n",
       "      <td>58</td>\n",
       "      <td>161</td>\n",
       "      <td>51.0</td>\n",
       "      <td>159.0</td>\n",
       "    </tr>\n",
       "    <tr>\n",
       "      <td>2</td>\n",
       "      <td>F</td>\n",
       "      <td>53</td>\n",
       "      <td>161</td>\n",
       "      <td>54.0</td>\n",
       "      <td>158.0</td>\n",
       "    </tr>\n",
       "    <tr>\n",
       "      <td>3</td>\n",
       "      <td>M</td>\n",
       "      <td>68</td>\n",
       "      <td>177</td>\n",
       "      <td>70.0</td>\n",
       "      <td>175.0</td>\n",
       "    </tr>\n",
       "    <tr>\n",
       "      <td>4</td>\n",
       "      <td>F</td>\n",
       "      <td>59</td>\n",
       "      <td>157</td>\n",
       "      <td>59.0</td>\n",
       "      <td>155.0</td>\n",
       "    </tr>\n",
       "  </tbody>\n",
       "</table>\n",
       "</div>"
      ],
      "text/plain": [
       "  sex  weight  height  repwt  repht\n",
       "0   M      77     182   77.0  180.0\n",
       "1   F      58     161   51.0  159.0\n",
       "2   F      53     161   54.0  158.0\n",
       "3   M      68     177   70.0  175.0\n",
       "4   F      59     157   59.0  155.0"
      ]
     },
     "execution_count": 38,
     "metadata": {},
     "output_type": "execute_result"
    }
   ],
   "source": [
    "import numpy as np\n",
    "import pandas as pd\n",
    "\n",
    "df = pd.read_csv(\"davis.csv\")\n",
    "df.drop(df.columns[0], axis=1, inplace=True)\n",
    "df.head()"
   ]
  },
  {
   "cell_type": "code",
   "execution_count": 39,
   "metadata": {},
   "outputs": [],
   "source": [
    "from sklearn.preprocessing import OneHotEncoder\n",
    "\n",
    "sex_array = df[\"sex\"]\n",
    "encoder = OneHotEncoder()\n",
    "sex_array = encoder.fit_transform(sex_array.to_numpy().reshape(-1, 1)).toarray()\n",
    "\n",
    "X = np.append(sex_array, df[\"height\"].to_numpy().reshape(-1, 1), axis=1)\n",
    "y = df[\"weight\"].to_numpy()"
   ]
  },
  {
   "cell_type": "code",
   "execution_count": 40,
   "metadata": {},
   "outputs": [],
   "source": [
    "from sklearn.model_selection import train_test_split\n",
    "\n",
    "X_train, X_test, y_train, y_test = train_test_split(X, y, test_size=0.2, random_state=1709)"
   ]
  },
  {
   "cell_type": "code",
   "execution_count": 41,
   "metadata": {},
   "outputs": [
    {
     "name": "stdout",
     "output_type": "stream",
     "text": [
      "Root mean square error: 11.870715808003006\n",
      "Model weights [-13.26893044  13.26893044  -0.43196661] 141.45854452904894\n"
     ]
    }
   ],
   "source": [
    "from sklearn.linear_model import LinearRegression\n",
    "from sklearn.metrics import mean_squared_error\n",
    "\n",
    "model = LinearRegression()\n",
    "model.fit(X_train, y_train)\n",
    "\n",
    "print(\"Root mean square error:\", np.sqrt(mean_squared_error(model.predict(X_test), y_test)))\n",
    "print(\"Model weights\", model.coef_, model.intercept_)"
   ]
  },
  {
   "cell_type": "markdown",
   "metadata": {},
   "source": [
    "**Вывод:** больший вклад в оценку делает вес человека. Причем женский пол негативно влияет оценку, т.е. уменьшает предсказывающий вес человека. Для мужского пола равно наоборот. "
   ]
  },
  {
   "cell_type": "code",
   "execution_count": 42,
   "metadata": {},
   "outputs": [
    {
     "data": {
      "image/png": "[encoded data removed]",
      "text/plain": [
       "<Figure size 1440x432 with 3 Axes>"
      ]
     },
     "metadata": {
      "needs_background": "light"
     },
     "output_type": "display_data"
    }
   ],
   "source": [
    "import matplotlib.pyplot as plt\n",
    "\n",
    "fig, ax = plt.subplots(1, 3, figsize=(20 , 6))\n",
    "df = df[df.isnull().any(axis=1) == False]\n",
    "\n",
    "ax[0].hist(df[\"repwt\"] - df[\"weight\"], range=(-10, 10))\n",
    "ax[0].set_title(\"Common hist\")\n",
    "\n",
    "female_df = df.loc[df[\"sex\"] == \"F\"]\n",
    "ax[1].hist(female_df[\"repwt\"] - female_df[\"weight\"], range=(-10, 10))\n",
    "ax[1].set_title(\"Female hist\")\n",
    "\n",
    "male_df = df.loc[df[\"sex\"] == \"M\"]\n",
    "ax[2].hist(male_df[\"repwt\"] - male_df[\"weight\"], range=(-10, 10))\n",
    "ax[2].set_title(\"Male hist\")\n",
    "\n",
    "plt.show()"
   ]
  },
  {
   "cell_type": "markdown",
   "metadata": {},
   "source": [
    "## Задание №2\n",
    "Построить модель, предсказывающую по четырем признакам (температура, давление, относительная влажность и ?) производительность электростанции (мегаватт/час). Оценить точность модели. Построить график, соотносящий истинные и предсказанные значения."
   ]
  },
  {
   "cell_type": "code",
   "execution_count": 6,
   "metadata": {},
   "outputs": [
    {
     "data": {
      "text/html": [
       "<div>\n",
       "<style scoped>\n",
       "    .dataframe tbody tr th:only-of-type {\n",
       "        vertical-align: middle;\n",
       "    }\n",
       "\n",
       "    .dataframe tbody tr th {\n",
       "        vertical-align: top;\n",
       "    }\n",
       "\n",
       "    .dataframe thead th {\n",
       "        text-align: right;\n",
       "    }\n",
       "</style>\n",
       "<table border=\"1\" class=\"dataframe\">\n",
       "  <thead>\n",
       "    <tr style=\"text-align: right;\">\n",
       "      <th></th>\n",
       "      <th>Temperature</th>\n",
       "      <th>Ambient Pressure</th>\n",
       "      <th>Relative Humidity</th>\n",
       "      <th>Exhaust Vacuum</th>\n",
       "      <th>Energy Output</th>\n",
       "    </tr>\n",
       "  </thead>\n",
       "  <tbody>\n",
       "    <tr>\n",
       "      <td>0</td>\n",
       "      <td>14.96</td>\n",
       "      <td>41.76</td>\n",
       "      <td>1024.07</td>\n",
       "      <td>73.17</td>\n",
       "      <td>463.26</td>\n",
       "    </tr>\n",
       "    <tr>\n",
       "      <td>1</td>\n",
       "      <td>25.18</td>\n",
       "      <td>62.96</td>\n",
       "      <td>1020.04</td>\n",
       "      <td>59.08</td>\n",
       "      <td>444.37</td>\n",
       "    </tr>\n",
       "    <tr>\n",
       "      <td>2</td>\n",
       "      <td>5.11</td>\n",
       "      <td>39.40</td>\n",
       "      <td>1012.16</td>\n",
       "      <td>92.14</td>\n",
       "      <td>488.56</td>\n",
       "    </tr>\n",
       "    <tr>\n",
       "      <td>3</td>\n",
       "      <td>20.86</td>\n",
       "      <td>57.32</td>\n",
       "      <td>1010.24</td>\n",
       "      <td>76.64</td>\n",
       "      <td>446.48</td>\n",
       "    </tr>\n",
       "    <tr>\n",
       "      <td>4</td>\n",
       "      <td>10.82</td>\n",
       "      <td>37.50</td>\n",
       "      <td>1009.23</td>\n",
       "      <td>96.62</td>\n",
       "      <td>473.90</td>\n",
       "    </tr>\n",
       "  </tbody>\n",
       "</table>\n",
       "</div>"
      ],
      "text/plain": [
       "   Temperature  Ambient Pressure  Relative Humidity  Exhaust Vacuum  \\\n",
       "0        14.96             41.76            1024.07           73.17   \n",
       "1        25.18             62.96            1020.04           59.08   \n",
       "2         5.11             39.40            1012.16           92.14   \n",
       "3        20.86             57.32            1010.24           76.64   \n",
       "4        10.82             37.50            1009.23           96.62   \n",
       "\n",
       "   Energy Output  \n",
       "0         463.26  \n",
       "1         444.37  \n",
       "2         488.56  \n",
       "3         446.48  \n",
       "4         473.90  "
      ]
     },
     "execution_count": 6,
     "metadata": {},
     "output_type": "execute_result"
    }
   ],
   "source": [
    "df = pd.read_excel(\"CCPP/Folds5x2_pp.xlsx\", names=[\"Temperature\",\n",
    "                                                   \"Ambient Pressure\",\n",
    "                                                   \"Relative Humidity\",\n",
    "                                                   \"Exhaust Vacuum\",\n",
    "                                                   \"Energy Output\"])\n",
    "df.head()"
   ]
  },
  {
   "cell_type": "code",
   "execution_count": 7,
   "metadata": {},
   "outputs": [],
   "source": [
    "X = df.drop(\"Energy Output\", axis=1)\n",
    "y = df[\"Energy Output\"]\n",
    "\n",
    "X_train, X_test, y_train, y_test = train_test_split(X, y, test_size=0.2, random_state=1709)"
   ]
  },
  {
   "cell_type": "code",
   "execution_count": 8,
   "metadata": {},
   "outputs": [
    {
     "name": "stdout",
     "output_type": "stream",
     "text": [
      "Root mean square error: 4.697564879004661\n",
      "Model weights: [-1.9633196  -0.24088311  0.06574714 -0.15621421] 450.90108385715496\n"
     ]
    }
   ],
   "source": [
    "model = LinearRegression()\n",
    "model.fit(X_train, y_train)\n",
    "\n",
    "print(\"Root mean square error:\", np.sqrt(mean_squared_error(model.predict(X_test), y_test)))\n",
    "print(\"Model weights:\", model.coef_, model.intercept_)"
   ]
  },
  {
   "cell_type": "code",
   "execution_count": 9,
   "metadata": {},
   "outputs": [
    {
     "data": {
      "image/png": "[encoded data removed]",
      "text/plain": [
       "<Figure size 1440x432 with 1 Axes>"
      ]
     },
     "metadata": {
      "needs_background": "light"
     },
     "output_type": "display_data"
    }
   ],
   "source": [
    "fig, ax = plt.subplots(figsize=(20 , 6))\n",
    "\n",
    "count = 50\n",
    "xs = np.arange(0, count, 1)\n",
    "y1s = y_test[:count]\n",
    "y2s = model.predict(X_test)[:count]\n",
    "\n",
    "ax.plot(xs, y1s, color=\"C0\")\n",
    "ax.plot(xs, y2s, \"--\", color=\"C1\", )\n",
    "\n",
    "\n",
    "plt.show()"
   ]
  },
  {
   "cell_type": "markdown",
   "metadata": {},
   "source": [
    "## Задание № 3\n",
    "Датасет California housing описывает множество районов Калифорнии через такие атрибуты, как географическое положение (lon/lat), медианный возраст домов, население, общее количество комнат и спален, близость к океану (категориальная), количество домов, медианный доход и медианная стоимость дома. Построить модель, предсказывающую медианную стоимость по остальным признакам. Определить наиболее информативные признаки. Дополнительно построить модель, не использующую географические координаты."
   ]
  },
  {
   "cell_type": "code",
   "execution_count": 10,
   "metadata": {},
   "outputs": [
    {
     "data": {
      "text/html": [
       "<div>\n",
       "<style scoped>\n",
       "    .dataframe tbody tr th:only-of-type {\n",
       "        vertical-align: middle;\n",
       "    }\n",
       "\n",
       "    .dataframe tbody tr th {\n",
       "        vertical-align: top;\n",
       "    }\n",
       "\n",
       "    .dataframe thead th {\n",
       "        text-align: right;\n",
       "    }\n",
       "</style>\n",
       "<table border=\"1\" class=\"dataframe\">\n",
       "  <thead>\n",
       "    <tr style=\"text-align: right;\">\n",
       "      <th></th>\n",
       "      <th>longitude</th>\n",
       "      <th>latitude</th>\n",
       "      <th>housing_median_age</th>\n",
       "      <th>total_rooms</th>\n",
       "      <th>total_bedrooms</th>\n",
       "      <th>population</th>\n",
       "      <th>households</th>\n",
       "      <th>median_income</th>\n",
       "      <th>median_house_value</th>\n",
       "      <th>ocean_proximity</th>\n",
       "    </tr>\n",
       "  </thead>\n",
       "  <tbody>\n",
       "    <tr>\n",
       "      <td>0</td>\n",
       "      <td>-122.23</td>\n",
       "      <td>37.88</td>\n",
       "      <td>41.0</td>\n",
       "      <td>880.0</td>\n",
       "      <td>129.0</td>\n",
       "      <td>322.0</td>\n",
       "      <td>126.0</td>\n",
       "      <td>8.3252</td>\n",
       "      <td>452600.0</td>\n",
       "      <td>NEAR BAY</td>\n",
       "    </tr>\n",
       "    <tr>\n",
       "      <td>1</td>\n",
       "      <td>-122.22</td>\n",
       "      <td>37.86</td>\n",
       "      <td>21.0</td>\n",
       "      <td>7099.0</td>\n",
       "      <td>1106.0</td>\n",
       "      <td>2401.0</td>\n",
       "      <td>1138.0</td>\n",
       "      <td>8.3014</td>\n",
       "      <td>358500.0</td>\n",
       "      <td>NEAR BAY</td>\n",
       "    </tr>\n",
       "    <tr>\n",
       "      <td>2</td>\n",
       "      <td>-122.24</td>\n",
       "      <td>37.85</td>\n",
       "      <td>52.0</td>\n",
       "      <td>1467.0</td>\n",
       "      <td>190.0</td>\n",
       "      <td>496.0</td>\n",
       "      <td>177.0</td>\n",
       "      <td>7.2574</td>\n",
       "      <td>352100.0</td>\n",
       "      <td>NEAR BAY</td>\n",
       "    </tr>\n",
       "    <tr>\n",
       "      <td>3</td>\n",
       "      <td>-122.25</td>\n",
       "      <td>37.85</td>\n",
       "      <td>52.0</td>\n",
       "      <td>1274.0</td>\n",
       "      <td>235.0</td>\n",
       "      <td>558.0</td>\n",
       "      <td>219.0</td>\n",
       "      <td>5.6431</td>\n",
       "      <td>341300.0</td>\n",
       "      <td>NEAR BAY</td>\n",
       "    </tr>\n",
       "    <tr>\n",
       "      <td>4</td>\n",
       "      <td>-122.25</td>\n",
       "      <td>37.85</td>\n",
       "      <td>52.0</td>\n",
       "      <td>1627.0</td>\n",
       "      <td>280.0</td>\n",
       "      <td>565.0</td>\n",
       "      <td>259.0</td>\n",
       "      <td>3.8462</td>\n",
       "      <td>342200.0</td>\n",
       "      <td>NEAR BAY</td>\n",
       "    </tr>\n",
       "  </tbody>\n",
       "</table>\n",
       "</div>"
      ],
      "text/plain": [
       "   longitude  latitude  housing_median_age  total_rooms  total_bedrooms  \\\n",
       "0    -122.23     37.88                41.0        880.0           129.0   \n",
       "1    -122.22     37.86                21.0       7099.0          1106.0   \n",
       "2    -122.24     37.85                52.0       1467.0           190.0   \n",
       "3    -122.25     37.85                52.0       1274.0           235.0   \n",
       "4    -122.25     37.85                52.0       1627.0           280.0   \n",
       "\n",
       "   population  households  median_income  median_house_value ocean_proximity  \n",
       "0       322.0       126.0         8.3252            452600.0        NEAR BAY  \n",
       "1      2401.0      1138.0         8.3014            358500.0        NEAR BAY  \n",
       "2       496.0       177.0         7.2574            352100.0        NEAR BAY  \n",
       "3       558.0       219.0         5.6431            341300.0        NEAR BAY  \n",
       "4       565.0       259.0         3.8462            342200.0        NEAR BAY  "
      ]
     },
     "execution_count": 10,
     "metadata": {},
     "output_type": "execute_result"
    }
   ],
   "source": [
    "df = pd.read_csv(\"california_housing.csv\")\n",
    "df.head()"
   ]
  },
  {
   "cell_type": "code",
   "execution_count": 11,
   "metadata": {},
   "outputs": [
    {
     "data": {
      "image/png": "[encoded data removed]",
      "text/plain": [
       "<Figure size 1440x1080 with 9 Axes>"
      ]
     },
     "metadata": {
      "needs_background": "light"
     },
     "output_type": "display_data"
    }
   ],
   "source": [
    "df.hist(bins=50, figsize=(20,15))\n",
    "plt.show()"
   ]
  },
  {
   "cell_type": "code",
   "execution_count": 12,
   "metadata": {},
   "outputs": [],
   "source": [
    "from sklearn.compose import ColumnTransformer\n",
    "from sklearn.preprocessing import FunctionTransformer\n",
    "from sklearn.impute import SimpleImputer\n",
    "from sklearn.pipeline import Pipeline\n",
    "from sklearn.base import BaseEstimator,TransformerMixin\n",
    "from sklearn.preprocessing import StandardScaler\n",
    "\n",
    "X = df.drop(\"median_house_value\", axis=1)\n",
    "y = df[\"median_house_value\"]\n",
    "\n",
    "rooms_ix, bedrooms_ix, population_ix, household_ix = [\n",
    "    list(X.columns).index(col) for col in (\"total_rooms\",\n",
    "                                           \"total_bedrooms\",\n",
    "                                           \"population\",\n",
    "                                           \"households\")\n",
    "]\n",
    "\n",
    "def add_extra_features(X):\n",
    "    rooms_per_household = X[:, rooms_ix] / X[:, household_ix]\n",
    "    population_per_household = X[:, population_ix] / X[:, household_ix]\n",
    "    bedrooms_per_room = X[:, bedrooms_ix] / X[:, rooms_ix]\n",
    "    return np.c_[X, rooms_per_household, population_per_household, bedrooms_per_room]\n",
    "\n",
    "num_pipeline = Pipeline([\n",
    "        (\"imputer\", SimpleImputer(strategy=\"median\")),\n",
    "        (\"attribs_adder\", FunctionTransformer(add_extra_features, validate=False)),\n",
    "        (\"std_scaler\", StandardScaler()),\n",
    "])\n",
    "\n",
    "housing_num = X.drop(\"ocean_proximity\", axis=1)\n",
    "num_attribs = list(housing_num)\n",
    "cat_attribs = [\"ocean_proximity\"]\n",
    "\n",
    "full_pipeline = ColumnTransformer([\n",
    "        (\"num\", num_pipeline, num_attribs),\n",
    "        (\"cat\", OneHotEncoder(), cat_attribs),\n",
    "])\n",
    "\n",
    "X_prepared = full_pipeline.fit_transform(X)\n",
    "\n",
    "X_train, X_test, y_train, y_test = train_test_split(X_prepared, y, test_size=0.2, random_state=1709)"
   ]
  },
  {
   "cell_type": "code",
   "execution_count": 13,
   "metadata": {},
   "outputs": [
    {
     "name": "stdout",
     "output_type": "stream",
     "text": [
      "Root mean square error: 68110.58750717495\n",
      "Model weights [-56494.47676551 -57159.44452023  13703.84929361  -5005.14977335\n",
      "  11338.78134204 -44623.49786344  44210.46129512  74245.91866861\n",
      "   7621.72180853    767.46762471   8531.49439275 -25967.55825346\n",
      " -63593.65102589 144152.4155049  -31223.82422758 -23367.38199797] 245050.44418904805\n"
     ]
    }
   ],
   "source": [
    "model = LinearRegression()\n",
    "model.fit(X_train, y_train)\n",
    "\n",
    "print(\"Root mean square error:\", np.sqrt(mean_squared_error(model.predict(X_test), y_test)))\n",
    "print(\"Model weights\", model.coef_, model.intercept_)"
   ]
  },
  {
   "cell_type": "markdown",
   "metadata": {},
   "source": [
    "#### Модель, не использующая географические координаты"
   ]
  },
  {
   "cell_type": "code",
   "execution_count": 14,
   "metadata": {},
   "outputs": [],
   "source": [
    "X_prepared = X_prepared[:, 2:]\n",
    "\n",
    "X_train, X_test, y_train, y_test = train_test_split(X_prepared, y, test_size=0.2, random_state=1709)"
   ]
  },
  {
   "cell_type": "code",
   "execution_count": 15,
   "metadata": {
    "scrolled": true
   },
   "outputs": [
    {
     "name": "stdout",
     "output_type": "stream",
     "text": [
      "Root mean square error: 69081.56727156458\n",
      "Model weights [ 15156.93776374  -6178.83077623   8380.80352745 -43369.63079968\n",
      "  47608.52578141  77566.57032584   4216.73821843    541.83579883\n",
      "   8389.01260997 -28217.32312449 -95085.49111729 163763.39898338\n",
      " -24496.58353109 -15964.00121051] 254310.74934540244\n"
     ]
    }
   ],
   "source": [
    "model = LinearRegression()\n",
    "model.fit(X_train, y_train)\n",
    "\n",
    "print(\"Root mean square error:\", np.sqrt(mean_squared_error(model.predict(X_test), y_test)))\n",
    "print(\"Model weights\", model.coef_, model.intercept_)"
   ]
  },
  {
   "cell_type": "markdown",
   "metadata": {},
   "source": [
    "## Задание № 4\n",
    "Обучить классификатор для предсказания диабета, основываясь на данных. Подобрать метрики для оценки классификатора, сделать вывод о влиянии различных факторов на исход."
   ]
  },
  {
   "cell_type": "code",
   "execution_count": 16,
   "metadata": {},
   "outputs": [
    {
     "data": {
      "text/html": [
       "<div>\n",
       "<style scoped>\n",
       "    .dataframe tbody tr th:only-of-type {\n",
       "        vertical-align: middle;\n",
       "    }\n",
       "\n",
       "    .dataframe tbody tr th {\n",
       "        vertical-align: top;\n",
       "    }\n",
       "\n",
       "    .dataframe thead th {\n",
       "        text-align: right;\n",
       "    }\n",
       "</style>\n",
       "<table border=\"1\" class=\"dataframe\">\n",
       "  <thead>\n",
       "    <tr style=\"text-align: right;\">\n",
       "      <th></th>\n",
       "      <th>Pregnancies</th>\n",
       "      <th>Glucose</th>\n",
       "      <th>BloodPressure</th>\n",
       "      <th>SkinThickness</th>\n",
       "      <th>Insulin</th>\n",
       "      <th>BMI</th>\n",
       "      <th>DiabetesPedigreeFunction</th>\n",
       "      <th>Age</th>\n",
       "      <th>Outcome</th>\n",
       "    </tr>\n",
       "  </thead>\n",
       "  <tbody>\n",
       "    <tr>\n",
       "      <td>0</td>\n",
       "      <td>6</td>\n",
       "      <td>148</td>\n",
       "      <td>72</td>\n",
       "      <td>35</td>\n",
       "      <td>0</td>\n",
       "      <td>33.6</td>\n",
       "      <td>0.627</td>\n",
       "      <td>50</td>\n",
       "      <td>1</td>\n",
       "    </tr>\n",
       "    <tr>\n",
       "      <td>1</td>\n",
       "      <td>1</td>\n",
       "      <td>85</td>\n",
       "      <td>66</td>\n",
       "      <td>29</td>\n",
       "      <td>0</td>\n",
       "      <td>26.6</td>\n",
       "      <td>0.351</td>\n",
       "      <td>31</td>\n",
       "      <td>0</td>\n",
       "    </tr>\n",
       "    <tr>\n",
       "      <td>2</td>\n",
       "      <td>8</td>\n",
       "      <td>183</td>\n",
       "      <td>64</td>\n",
       "      <td>0</td>\n",
       "      <td>0</td>\n",
       "      <td>23.3</td>\n",
       "      <td>0.672</td>\n",
       "      <td>32</td>\n",
       "      <td>1</td>\n",
       "    </tr>\n",
       "    <tr>\n",
       "      <td>3</td>\n",
       "      <td>1</td>\n",
       "      <td>89</td>\n",
       "      <td>66</td>\n",
       "      <td>23</td>\n",
       "      <td>94</td>\n",
       "      <td>28.1</td>\n",
       "      <td>0.167</td>\n",
       "      <td>21</td>\n",
       "      <td>0</td>\n",
       "    </tr>\n",
       "    <tr>\n",
       "      <td>4</td>\n",
       "      <td>0</td>\n",
       "      <td>137</td>\n",
       "      <td>40</td>\n",
       "      <td>35</td>\n",
       "      <td>168</td>\n",
       "      <td>43.1</td>\n",
       "      <td>2.288</td>\n",
       "      <td>33</td>\n",
       "      <td>1</td>\n",
       "    </tr>\n",
       "  </tbody>\n",
       "</table>\n",
       "</div>"
      ],
      "text/plain": [
       "   Pregnancies  Glucose  BloodPressure  SkinThickness  Insulin   BMI  \\\n",
       "0            6      148             72             35        0  33.6   \n",
       "1            1       85             66             29        0  26.6   \n",
       "2            8      183             64              0        0  23.3   \n",
       "3            1       89             66             23       94  28.1   \n",
       "4            0      137             40             35      168  43.1   \n",
       "\n",
       "   DiabetesPedigreeFunction  Age  Outcome  \n",
       "0                     0.627   50        1  \n",
       "1                     0.351   31        0  \n",
       "2                     0.672   32        1  \n",
       "3                     0.167   21        0  \n",
       "4                     2.288   33        1  "
      ]
     },
     "execution_count": 16,
     "metadata": {},
     "output_type": "execute_result"
    }
   ],
   "source": [
    "df = pd.read_csv(\"diabetes.csv\")\n",
    "df.head()"
   ]
  },
  {
   "cell_type": "code",
   "execution_count": 17,
   "metadata": {},
   "outputs": [],
   "source": [
    "X = df.drop(\"Outcome\", axis=1)\n",
    "y = df[\"Outcome\"]\n",
    "\n",
    "X_train, X_test, y_train, y_test = train_test_split(X, y, test_size=0.2, random_state=1709)"
   ]
  },
  {
   "cell_type": "code",
   "execution_count": 18,
   "metadata": {},
   "outputs": [
    {
     "name": "stdout",
     "output_type": "stream",
     "text": [
      "CPU times: user 71.4 ms, sys: 24.2 ms, total: 95.6 ms\n",
      "Wall time: 59.2 ms\n"
     ]
    },
    {
     "data": {
      "text/plain": [
       "LogisticRegression(C=1.0, class_weight=None, dual=False, fit_intercept=True,\n",
       "                   intercept_scaling=1, l1_ratio=None, max_iter=100000.0,\n",
       "                   multi_class='warn', n_jobs=None, penalty='l2',\n",
       "                   random_state=None, solver='lbfgs', tol=0.0001, verbose=0,\n",
       "                   warm_start=False)"
      ]
     },
     "execution_count": 18,
     "metadata": {},
     "output_type": "execute_result"
    }
   ],
   "source": [
    "from sklearn.linear_model import LogisticRegression\n",
    "\n",
    "model = LogisticRegression(solver=\"lbfgs\", max_iter=1e5)\n",
    "%time model.fit(X_train, y_train)"
   ]
  },
  {
   "cell_type": "code",
   "execution_count": 19,
   "metadata": {},
   "outputs": [
    {
     "name": "stdout",
     "output_type": "stream",
     "text": [
      "Score: 0.7922077922077922\n"
     ]
    }
   ],
   "source": [
    "print(\"Score:\", model.score(X_test, y_test))"
   ]
  },
  {
   "cell_type": "code",
   "execution_count": 20,
   "metadata": {},
   "outputs": [],
   "source": [
    "from scipy.optimize import minimize_scalar\n",
    "\n",
    "class MyBinaryLogisticRegression:\n",
    "    def __init__(self, alpha=0.0015, max_iters=1e5, eps=1e-2):\n",
    "        self._alpha = alpha\n",
    "        self._max_iters = int(max_iters)\n",
    "        self._eps = eps\n",
    "        self._weights = None\n",
    "    \n",
    "    def _add_ones_column(self, X):\n",
    "        return np.append(X, np.ones((X.shape[0], 1)), axis=1) \n",
    "    \n",
    "    def _sigmoid(self, x):\n",
    "        z = np.exp(-x)\n",
    "        z[np.isinf(z)] = 1\n",
    "        return 1 / (1 + z)\n",
    "    \n",
    "    def _loss(self, X, y, w):\n",
    "        h = self._sigmoid(np.dot(X, w))\n",
    "        return -(y * np.log(h) + (1 - y) * np.log(1 - h)).mean()\n",
    "    \n",
    "    def _loss_derivate(self, X, y, w):\n",
    "        z = np.dot(X, w)\n",
    "        h = self._sigmoid(z)\n",
    "        return np.dot(X.T, (h - y)) / len(y)    \n",
    "\n",
    "    def fit(self, X, y):\n",
    "        X = self._add_ones_column(X)\n",
    "        self._weights = np.ones(X.shape[1])\n",
    "        \n",
    "        dweights = np.ones(self._weights.shape)\n",
    "        p = 0.75\n",
    "        \n",
    "        # Метод инерционного градиентного спуска\n",
    "        for i in range(self._max_iters):\n",
    "            gradient = self._loss_derivate(X, y, self._weights + p * dweights)   \n",
    "            dweights = p * dweights - self._alpha * gradient\n",
    "            self._weights += dweights\n",
    "            \n",
    "            # if np.linalg.norm(gradient) <= self._eps:\n",
    "            #    break\n",
    "    \n",
    "    def predict(self, X):\n",
    "        X = self._add_ones_column(X)\n",
    "        return self._sigmoid(np.dot(X, self._weights)).round()\n",
    "    \n",
    "    def score(self, X, y):\n",
    "        return (self.predict(X) == y).mean()\n",
    "    \n",
    "    def weights(self):\n",
    "        return self._weights"
   ]
  },
  {
   "cell_type": "code",
   "execution_count": 21,
   "metadata": {},
   "outputs": [
    {
     "name": "stdout",
     "output_type": "stream",
     "text": [
      "CPU times: user 22.3 s, sys: 17.9 ms, total: 22.3 s\n",
      "Wall time: 22.4 s\n"
     ]
    }
   ],
   "source": [
    "model = MyBinaryLogisticRegression()\n",
    "%time model.fit(X_train, y_train)"
   ]
  },
  {
   "cell_type": "code",
   "execution_count": 22,
   "metadata": {},
   "outputs": [
    {
     "name": "stdout",
     "output_type": "stream",
     "text": [
      "Score: 0.7597402597402597 \n",
      "\n",
      "Влияние признаков:\n",
      "\t Беременность              0.612\n",
      "\t Глюкоза                   0.103\n",
      "\t Давление                 -0.134\n",
      "\t Толщина кожи              0.029\n",
      "\t Инсулин                  -0.004\n",
      "\t Индекс массы тела         0.118\n",
      "\t Диабет в родословной      2.796\n",
      "\t Возраст                   0.013\n"
     ]
    }
   ],
   "source": [
    "print(\"Score:\", model.score(X_test, y_test), \"\\n\")\n",
    "\n",
    "features = [\"Беременность\",\n",
    "            \"Глюкоза\",\n",
    "            \"Давление\",\n",
    "            \"Толщина кожи\",\n",
    "            \"Инсулин\",\n",
    "            \"Индекс массы тела\",\n",
    "            \"Диабет в родословной\" ,\n",
    "            \"Возраст\"\n",
    "]\n",
    "\n",
    "print(\"Влияние признаков:\") \n",
    "for label, value in zip(features, model.weights()[:-1]):\n",
    "    print(\"\\t\", \"{: <20} {: >10}\".format(label, round(value, 3)))"
   ]
  },
  {
   "cell_type": "markdown",
   "metadata": {},
   "source": [
    "## Задание № 5\n",
    "Используя набор данных Rosetta, построить классификатор, определяющий на каком из 30-ти языков программирования написан код. Определить наиболее похожие языки и наиболее важные атрибуты для идентификации каждого языка."
   ]
  },
  {
   "cell_type": "code",
   "execution_count": 23,
   "metadata": {},
   "outputs": [],
   "source": [
    "import re\n",
    "\n",
    "lexical_tokens = re.compile(r\"\"\"\n",
    "(?P<identifier>[a-zA-Z_][a-zA-Z0-9_]*)\n",
    "|(?P<float>\\d+\\.\\d+)\n",
    "|(?P<integer>\\d+)\n",
    "|(?P<whitespace>\\s+)\n",
    "|(?P<any>.)\n",
    "\"\"\", re.VERBOSE)\n",
    "\n",
    "def tokenize(text):\n",
    "    pos = 0\n",
    "    while pos < len(text):\n",
    "        match = lexical_tokens.match(text, pos)\n",
    "        if not match:\n",
    "            raise ValueError(f\"Cannot lex '{text[pos:]}'\")\n",
    "        else:\n",
    "            pos = match.end()\n",
    "            tokname = match.lastgroup\n",
    "            tokvalue = match.group(tokname)\n",
    "            if tokname != 'whitespace':\n",
    "                yield tokvalue"
   ]
  },
  {
   "cell_type": "code",
   "execution_count": 24,
   "metadata": {},
   "outputs": [],
   "source": [
    "import os\n",
    "import json\n",
    "\n",
    "docs = []\n",
    "\n",
    "for dirpath, dirnames, filenames in os.walk(\"rosetta/train/\"):\n",
    "    count = 0\n",
    "    d = {}\n",
    "    \n",
    "    for filename in filenames:\n",
    "        with open(dirpath + os.sep + filename, \"r\", encoding=\"utf-8\") as file:\n",
    "            for word in tokenize(file.read()):\n",
    "                count += 1\n",
    "                if word in d.keys():\n",
    "                    d[word] += 1\n",
    "                else:\n",
    "                    d[word] = 1\n",
    "                    \n",
    "    remove = []\n",
    "    for key, value in d.items():\n",
    "        if value <= 7:\n",
    "            remove.append(key)\n",
    "    \n",
    "    for key in remove:\n",
    "        del d[key]\n",
    "            \n",
    "    docs.append({\"name\" : dirpath.split(\"/\")[-1], \"values\" : d, \"count\": count})\n",
    "    \n",
    "def doc_with_word(word):\n",
    "    count = 0\n",
    "    for lang in docs:\n",
    "        if word in lang[\"values\"].keys():\n",
    "            count += 1\n",
    "    \n",
    "    return count "
   ]
  },
  {
   "cell_type": "code",
   "execution_count": 25,
   "metadata": {},
   "outputs": [],
   "source": [
    "index = {}\n",
    "\n",
    "for lang in docs:\n",
    "    name = lang[\"name\"]\n",
    "    count = lang[\"count\"]\n",
    "    values = lang[\"values\"]\n",
    "\n",
    "    for key, value in values.items():\n",
    "        # TF-IDF\n",
    "        val = value / count * np.log(len(docs) / doc_with_word(key)) + 1\n",
    "        if val >= 1 + 1e-4:\n",
    "            if key in index.keys():\n",
    "                index[key] += [(name, val)]\n",
    "            else:\n",
    "                index[key] = [(name, val)]\n",
    "        \n",
    "with open(\"index.json\", \"w\", encoding=\"utf-8\") as file:     \n",
    "    json.dump(index, file, indent=4)"
   ]
  },
  {
   "cell_type": "code",
   "execution_count": 26,
   "metadata": {},
   "outputs": [],
   "source": [
    "def search(words):\n",
    "    langs = {}\n",
    "    for word in words:\n",
    "        if word in index.keys():\n",
    "            for lang, score in index[word]:\n",
    "                if lang in langs.keys():\n",
    "                    langs[lang] += score\n",
    "                else:\n",
    "                    langs[lang] = score\n",
    "                    \n",
    "    return sorted(langs.items(), key=lambda item: item[1])"
   ]
  },
  {
   "cell_type": "code",
   "execution_count": 27,
   "metadata": {},
   "outputs": [
    {
     "name": "stdout",
     "output_type": "stream",
     "text": [
      "Score: 0.7523253298723772 \n",
      "\n",
      "Top 20 similar langs:\n",
      "\t ('Forth and Python', 10)\n",
      "\t ('Lua and Python', 10)\n",
      "\t ('Lua and Ruby', 10)\n",
      "\t ('Forth and Perl', 10)\n",
      "\t ('Forth and Haskell', 10)\n",
      "\t ('C and C++', 10)\n",
      "\t ('JavaScript and R', 11)\n",
      "\t ('Go and Swift', 11)\n",
      "\t ('Clojure and Groovy', 13)\n",
      "\t ('C++ and D', 13)\n",
      "\t ('Go and JavaScript', 13)\n",
      "\t ('Erlang and Prolog', 14)\n",
      "\t ('Python and Ruby', 14)\n",
      "\t ('PHP and Perl', 14)\n",
      "\t ('Clojure and Forth', 15)\n",
      "\t ('D and Java', 16)\n",
      "\t ('Groovy and Scala', 17)\n",
      "\t ('Common-Lisp and Scheme', 21)\n",
      "\t ('Kotlin and Scala', 23)\n",
      "\t ('Groovy and Java', 23)\n"
     ]
    }
   ],
   "source": [
    "count = 0\n",
    "correct = 0\n",
    "\n",
    "similar_langs = {}\n",
    "\n",
    "for dirpath, dirnames, filenames in os.walk(\"rosetta/test/\"):\n",
    "    lang = dirpath.split(\"/\")[-1]\n",
    "    for filename in filenames:\n",
    "        count += 1\n",
    "        words = []\n",
    "        with open(dirpath + os.sep + filename, \"r\", encoding=\"utf-8\") as file:\n",
    "            for word in tokenize(file.read()):\n",
    "                words.append(word)\n",
    "        \n",
    "        reply = search(words)\n",
    "        if len(reply) != 0:\n",
    "            if lang == reply[-1][0]:\n",
    "                correct += 1\n",
    "            else:\n",
    "                similar_lang = \" and \".join(sorted([lang, reply[-1][0]]))\n",
    "                if similar_lang in similar_langs.keys():\n",
    "                    similar_langs[similar_lang] += 1\n",
    "                else:\n",
    "                    similar_langs[similar_lang] = 1\n",
    "            \n",
    "print(\"Score:\", correct / count, \"\\n\")\n",
    "\n",
    "similar_top20 = sorted(similar_langs.items(), key=lambda item: item[1])[-20:]\n",
    "print(\"Top 20 similar langs:\")\n",
    "for lang in similar_top20:\n",
    "    print(\"\\t\", lang)"
   ]
  },
  {
   "cell_type": "code",
   "execution_count": 28,
   "metadata": {},
   "outputs": [
    {
     "name": "stdout",
     "output_type": "stream",
     "text": [
      "Important feature:\n",
      "\t ('Scala', 'def')\n",
      "\t ('Clojure', 'defn')\n",
      "\t ('Python', 'def')\n",
      "\t ('Ruby', 'puts')\n",
      "\t ('Perl', 'my')\n",
      "\t ('Groovy', 'def')\n",
      "\t ('Erlang', 'Acc')\n",
      "\t ('Kotlin', 'fun')\n",
      "\t ('Scheme', 'define')\n",
      "\t ('Delphi', 'Writeln')\n",
      "\t ('R', 'paste')\n",
      "\t ('Forth', 'dup')\n",
      "\t ('X86-Assembly', 'mov')\n",
      "\t ('Common-Lisp', 'defun')\n",
      "\t ('Rust', 'mut')\n",
      "\t ('Haskell', 'putStrLn')\n",
      "\t ('D', 'std')\n",
      "\t ('C', 'include')\n",
      "\t ('C++', 'std')\n",
      "\t ('PHP', 'echo')\n",
      "\t ('C-sharp', 'Console')\n",
      "\t ('BASIC', 'PRINT')\n",
      "\t ('Lua', 'local')\n",
      "\t ('Ada', 'Ada')\n",
      "\t ('OCaml', 'let')\n",
      "\t ('Go', 'Println')\n",
      "\t ('Java', 'public')\n",
      "\t ('JavaScript', 'var')\n",
      "\t ('Prolog', ',')\n",
      "\t ('Swift', 'let')\n"
     ]
    }
   ],
   "source": [
    "important_feature = {}\n",
    "important_feature_scores = {}\n",
    "\n",
    "with open(\"rosetta/selected_languages.txt\", \"r\", encoding=\"utf-8\") as file:\n",
    "    for current_lang in file:\n",
    "        for word in index:\n",
    "            for lang, score in index[word]:\n",
    "                if lang in important_feature.keys():\n",
    "                    if important_feature_scores[lang] < score:\n",
    "                        important_feature_scores[lang] = score\n",
    "                        important_feature[lang] = word\n",
    "                else:\n",
    "                    important_feature_scores[lang] = score\n",
    "                    important_feature[lang] = word\n",
    "                    \n",
    "print(\"Important feature:\")\n",
    "for item in important_feature.items():\n",
    "    print(\"\\t\", item)"
   ]
  },
  {
   "cell_type": "markdown",
   "metadata": {},
   "source": [
    "## Задание № 6\n",
    "Построить классификатор цифр. Найти наиболее перепутываемые цифры, отобразить сложные для классификатора примеры."
   ]
  },
  {
   "cell_type": "code",
   "execution_count": 29,
   "metadata": {},
   "outputs": [
    {
     "data": {
      "text/html": [
       "<div>\n",
       "<style scoped>\n",
       "    .dataframe tbody tr th:only-of-type {\n",
       "        vertical-align: middle;\n",
       "    }\n",
       "\n",
       "    .dataframe tbody tr th {\n",
       "        vertical-align: top;\n",
       "    }\n",
       "\n",
       "    .dataframe thead th {\n",
       "        text-align: right;\n",
       "    }\n",
       "</style>\n",
       "<table border=\"1\" class=\"dataframe\">\n",
       "  <thead>\n",
       "    <tr style=\"text-align: right;\">\n",
       "      <th></th>\n",
       "      <th>label</th>\n",
       "      <th>pixel0</th>\n",
       "      <th>pixel1</th>\n",
       "      <th>pixel2</th>\n",
       "      <th>pixel3</th>\n",
       "      <th>pixel4</th>\n",
       "      <th>pixel5</th>\n",
       "      <th>pixel6</th>\n",
       "      <th>pixel7</th>\n",
       "      <th>pixel8</th>\n",
       "      <th>...</th>\n",
       "      <th>pixel774</th>\n",
       "      <th>pixel775</th>\n",
       "      <th>pixel776</th>\n",
       "      <th>pixel777</th>\n",
       "      <th>pixel778</th>\n",
       "      <th>pixel779</th>\n",
       "      <th>pixel780</th>\n",
       "      <th>pixel781</th>\n",
       "      <th>pixel782</th>\n",
       "      <th>pixel783</th>\n",
       "    </tr>\n",
       "  </thead>\n",
       "  <tbody>\n",
       "    <tr>\n",
       "      <td>0</td>\n",
       "      <td>1</td>\n",
       "      <td>0</td>\n",
       "      <td>0</td>\n",
       "      <td>0</td>\n",
       "      <td>0</td>\n",
       "      <td>0</td>\n",
       "      <td>0</td>\n",
       "      <td>0</td>\n",
       "      <td>0</td>\n",
       "      <td>0</td>\n",
       "      <td>...</td>\n",
       "      <td>0</td>\n",
       "      <td>0</td>\n",
       "      <td>0</td>\n",
       "      <td>0</td>\n",
       "      <td>0</td>\n",
       "      <td>0</td>\n",
       "      <td>0</td>\n",
       "      <td>0</td>\n",
       "      <td>0</td>\n",
       "      <td>0</td>\n",
       "    </tr>\n",
       "    <tr>\n",
       "      <td>1</td>\n",
       "      <td>0</td>\n",
       "      <td>0</td>\n",
       "      <td>0</td>\n",
       "      <td>0</td>\n",
       "      <td>0</td>\n",
       "      <td>0</td>\n",
       "      <td>0</td>\n",
       "      <td>0</td>\n",
       "      <td>0</td>\n",
       "      <td>0</td>\n",
       "      <td>...</td>\n",
       "      <td>0</td>\n",
       "      <td>0</td>\n",
       "      <td>0</td>\n",
       "      <td>0</td>\n",
       "      <td>0</td>\n",
       "      <td>0</td>\n",
       "      <td>0</td>\n",
       "      <td>0</td>\n",
       "      <td>0</td>\n",
       "      <td>0</td>\n",
       "    </tr>\n",
       "    <tr>\n",
       "      <td>2</td>\n",
       "      <td>1</td>\n",
       "      <td>0</td>\n",
       "      <td>0</td>\n",
       "      <td>0</td>\n",
       "      <td>0</td>\n",
       "      <td>0</td>\n",
       "      <td>0</td>\n",
       "      <td>0</td>\n",
       "      <td>0</td>\n",
       "      <td>0</td>\n",
       "      <td>...</td>\n",
       "      <td>0</td>\n",
       "      <td>0</td>\n",
       "      <td>0</td>\n",
       "      <td>0</td>\n",
       "      <td>0</td>\n",
       "      <td>0</td>\n",
       "      <td>0</td>\n",
       "      <td>0</td>\n",
       "      <td>0</td>\n",
       "      <td>0</td>\n",
       "    </tr>\n",
       "    <tr>\n",
       "      <td>3</td>\n",
       "      <td>4</td>\n",
       "      <td>0</td>\n",
       "      <td>0</td>\n",
       "      <td>0</td>\n",
       "      <td>0</td>\n",
       "      <td>0</td>\n",
       "      <td>0</td>\n",
       "      <td>0</td>\n",
       "      <td>0</td>\n",
       "      <td>0</td>\n",
       "      <td>...</td>\n",
       "      <td>0</td>\n",
       "      <td>0</td>\n",
       "      <td>0</td>\n",
       "      <td>0</td>\n",
       "      <td>0</td>\n",
       "      <td>0</td>\n",
       "      <td>0</td>\n",
       "      <td>0</td>\n",
       "      <td>0</td>\n",
       "      <td>0</td>\n",
       "    </tr>\n",
       "    <tr>\n",
       "      <td>4</td>\n",
       "      <td>0</td>\n",
       "      <td>0</td>\n",
       "      <td>0</td>\n",
       "      <td>0</td>\n",
       "      <td>0</td>\n",
       "      <td>0</td>\n",
       "      <td>0</td>\n",
       "      <td>0</td>\n",
       "      <td>0</td>\n",
       "      <td>0</td>\n",
       "      <td>...</td>\n",
       "      <td>0</td>\n",
       "      <td>0</td>\n",
       "      <td>0</td>\n",
       "      <td>0</td>\n",
       "      <td>0</td>\n",
       "      <td>0</td>\n",
       "      <td>0</td>\n",
       "      <td>0</td>\n",
       "      <td>0</td>\n",
       "      <td>0</td>\n",
       "    </tr>\n",
       "  </tbody>\n",
       "</table>\n",
       "<p>5 rows × 785 columns</p>\n",
       "</div>"
      ],
      "text/plain": [
       "   label  pixel0  pixel1  pixel2  pixel3  pixel4  pixel5  pixel6  pixel7  \\\n",
       "0      1       0       0       0       0       0       0       0       0   \n",
       "1      0       0       0       0       0       0       0       0       0   \n",
       "2      1       0       0       0       0       0       0       0       0   \n",
       "3      4       0       0       0       0       0       0       0       0   \n",
       "4      0       0       0       0       0       0       0       0       0   \n",
       "\n",
       "   pixel8  ...  pixel774  pixel775  pixel776  pixel777  pixel778  pixel779  \\\n",
       "0       0  ...         0         0         0         0         0         0   \n",
       "1       0  ...         0         0         0         0         0         0   \n",
       "2       0  ...         0         0         0         0         0         0   \n",
       "3       0  ...         0         0         0         0         0         0   \n",
       "4       0  ...         0         0         0         0         0         0   \n",
       "\n",
       "   pixel780  pixel781  pixel782  pixel783  \n",
       "0         0         0         0         0  \n",
       "1         0         0         0         0  \n",
       "2         0         0         0         0  \n",
       "3         0         0         0         0  \n",
       "4         0         0         0         0  \n",
       "\n",
       "[5 rows x 785 columns]"
      ]
     },
     "execution_count": 29,
     "metadata": {},
     "output_type": "execute_result"
    }
   ],
   "source": [
    "df = pd.read_csv(\"digits/train.csv\")\n",
    "df.head()"
   ]
  },
  {
   "cell_type": "code",
   "execution_count": 30,
   "metadata": {},
   "outputs": [],
   "source": [
    "X = df.to_numpy()[:5000, 1:]\n",
    "y = df.to_numpy()[:5000, 0]\n",
    "\n",
    "X_train, X_test, y_train, y_test = train_test_split(X, y, test_size=0.2, random_state=1709)"
   ]
  },
  {
   "cell_type": "code",
   "execution_count": 31,
   "metadata": {},
   "outputs": [
    {
     "name": "stdout",
     "output_type": "stream",
     "text": [
      "CPU times: user 1min 34s, sys: 12.5 s, total: 1min 46s\n",
      "Wall time: 27.7 s\n"
     ]
    },
    {
     "data": {
      "text/plain": [
       "LogisticRegression(C=1.0, class_weight=None, dual=False, fit_intercept=True,\n",
       "                   intercept_scaling=1, l1_ratio=None, max_iter=1000.0,\n",
       "                   multi_class='ovr', n_jobs=None, penalty='l2',\n",
       "                   random_state=None, solver='lbfgs', tol=0.01, verbose=0,\n",
       "                   warm_start=False)"
      ]
     },
     "execution_count": 31,
     "metadata": {},
     "output_type": "execute_result"
    }
   ],
   "source": [
    "from sklearn.linear_model import LogisticRegression\n",
    "import warnings\n",
    "warnings.filterwarnings(\"ignore\", \"lbfgs failed to converge. Increase the number of iterations.\")\n",
    "\n",
    "model = LogisticRegression(solver=\"lbfgs\", max_iter=1e3, tol=1e-2, multi_class=\"ovr\")\n",
    "%time model.fit(X_train, y_train)"
   ]
  },
  {
   "cell_type": "code",
   "execution_count": 32,
   "metadata": {},
   "outputs": [
    {
     "name": "stdout",
     "output_type": "stream",
     "text": [
      "Score: 0.808\n"
     ]
    }
   ],
   "source": [
    "print(\"Score:\", model.score(X_test, y_test))"
   ]
  },
  {
   "cell_type": "code",
   "execution_count": 33,
   "metadata": {},
   "outputs": [],
   "source": [
    "class MyMultiClassLogisticRegression():\n",
    "    def __init__(self, alpha=0.05, max_iters=1e3, eps=1e-2):\n",
    "        self._alpha = alpha\n",
    "        self._max_iters = int(max_iters)\n",
    "        self._eps = eps\n",
    "        self._classes = None\n",
    "        self._weights = None        \n",
    "\n",
    "    def _one_hot(self, y):\n",
    "        Y = np.zeros((y.shape[0], self._classes))\n",
    "        for i in range(y.shape[0]):\n",
    "            Y[i, y[i]] = 1\n",
    "        return Y\n",
    "\n",
    "    def _add_ones_column(self, X):\n",
    "        return np.append(X, np.ones((X.shape[0], 1)), axis=1) \n",
    "    \n",
    "    def _softmax(self, x):\n",
    "        # чтоб не переполнялся np.exp\n",
    "        x_max = np.amax(x, axis=0, keepdims=True)\n",
    "        \n",
    "        z = np.exp(x - x_max)\n",
    "        return z / np.sum(z, axis=0, keepdims=True)\n",
    "    \n",
    "    def _loss_derivate(self, X, y, w):\n",
    "        z = np.dot(w, X.T)\n",
    "        h = self._softmax(z)\n",
    "        return np.dot(h - y.T, X) / len(y)\n",
    "    \n",
    "    def fit(self, X, y):\n",
    "        # Кол-во классов\n",
    "        self._classes = len(np.unique(y))\n",
    "        \n",
    "        X = self._add_ones_column(X)  \n",
    "        y = self._one_hot(y)\n",
    "        \n",
    "        # Веса (Классы * Признаки)\n",
    "        self._weights = np.zeros((self._classes, X.shape[1]))\n",
    "        dweights = np.zeros(self._weights.shape)\n",
    "        p = 0.45\n",
    "        \n",
    "        # Метод инерционного градиентного спуска\n",
    "        for _ in range(self._max_iters):\n",
    "            gradient = self._loss_derivate(X, y, self._weights + p * dweights)           \n",
    "            dweights = p * self._weights - self._alpha * gradient\n",
    "            self._weights += dweights\n",
    "            \n",
    "            # if np.linalg.norm(gradient) <= self._eps:\n",
    "            #    break\n",
    "        \n",
    "    def predict(self, X):\n",
    "        X = self._add_ones_column(X)\n",
    "        z = np.dot(self._weights, X.T)\n",
    "        p = self._softmax(z)\n",
    "        return np.argmax(p, axis=0)\n",
    "    \n",
    "    def score(self, X, y):\n",
    "        return (self.predict(X) == y).mean()\n",
    "    \n",
    "    def weights(self):\n",
    "        return self._weights"
   ]
  },
  {
   "cell_type": "code",
   "execution_count": 34,
   "metadata": {},
   "outputs": [
    {
     "name": "stdout",
     "output_type": "stream",
     "text": [
      "CPU times: user 54.8 s, sys: 6.57 s, total: 1min 1s\n",
      "Wall time: 16.6 s\n"
     ]
    }
   ],
   "source": [
    "model = MyMultiClassLogisticRegression()\n",
    "%time model.fit(X_train, y_train)"
   ]
  },
  {
   "cell_type": "code",
   "execution_count": 35,
   "metadata": {},
   "outputs": [
    {
     "name": "stdout",
     "output_type": "stream",
     "text": [
      "Score: 0.793\n"
     ]
    }
   ],
   "source": [
    "print(\"Score:\", model.score(X_test, y_test))"
   ]
  },
  {
   "cell_type": "code",
   "execution_count": 36,
   "metadata": {},
   "outputs": [
    {
     "name": "stdout",
     "output_type": "stream",
     "text": [
      "Top 10 similar digits:\n",
      "\t ('5 with 0', 6)\n",
      "\t ('8 with 9', 6)\n",
      "\t ('5 with 6', 6)\n",
      "\t ('5 with 1', 8)\n",
      "\t ('9 with 7', 9)\n",
      "\t ('5 with 4', 9)\n",
      "\t ('9 with 4', 11)\n",
      "\t ('5 with 9', 11)\n",
      "\t ('5 with 8', 18)\n",
      "\t ('5 with 3', 22)\n"
     ]
    }
   ],
   "source": [
    "similar_digits = {}\n",
    "\n",
    "predict = model.predict(X_test)\n",
    "for x, y in zip(predict[predict != y_test], y_test[predict != y_test]):\n",
    "    digit = f\"{y} with {x}\"\n",
    "    if digit in similar_digits.keys():\n",
    "        similar_digits[digit] += 1\n",
    "    else:\n",
    "        similar_digits[digit] = 1\n",
    "        \n",
    "similar_top10 = sorted(similar_digits.items(), key=lambda item: item[1])[-10:]\n",
    "print(\"Top 10 similar digits:\")\n",
    "for digit in similar_top10:\n",
    "    print(\"\\t\", digit)"
   ]
  },
  {
   "cell_type": "code",
   "execution_count": 37,
   "metadata": {},
   "outputs": [
    {
     "data": {
      "image/png": "[encoded data removed]",
      "text/plain": [
       "<Figure size 1440x360 with 18 Axes>"
      ]
     },
     "metadata": {
      "needs_background": "light"
     },
     "output_type": "display_data"
    },
    {
     "data": {
      "image/png": "[encoded data removed]",
      "text/plain": [
       "<Figure size 1440x360 with 6 Axes>"
      ]
     },
     "metadata": {
      "needs_background": "light"
     },
     "output_type": "display_data"
    },
    {
     "data": {
      "image/png": "[encoded data removed]",
      "text/plain": [
       "<Figure size 1440x360 with 22 Axes>"
      ]
     },
     "metadata": {
      "needs_background": "light"
     },
     "output_type": "display_data"
    },
    {
     "data": {
      "image/png": "[encoded data removed]",
      "text/plain": [
       "<Figure size 1440x360 with 6 Axes>"
      ]
     },
     "metadata": {
      "needs_background": "light"
     },
     "output_type": "display_data"
    },
    {
     "data": {
      "image/png": "[encoded data removed]",
      "text/plain": [
       "<Figure size 1440x360 with 9 Axes>"
      ]
     },
     "metadata": {
      "needs_background": "light"
     },
     "output_type": "display_data"
    },
    {
     "data": {
      "image/png": "[encoded data removed]",
      "text/plain": [
       "<Figure size 1440x360 with 8 Axes>"
      ]
     },
     "metadata": {
      "needs_background": "light"
     },
     "output_type": "display_data"
    },
    {
     "data": {
      "image/png": "[encoded data removed]",
      "text/plain": [
       "<Figure size 1440x360 with 11 Axes>"
      ]
     },
     "metadata": {
      "needs_background": "light"
     },
     "output_type": "display_data"
    },
    {
     "data": {
      "image/png": "[encoded data removed]",
      "text/plain": [
       "<Figure size 1440x360 with 9 Axes>"
      ]
     },
     "metadata": {
      "needs_background": "light"
     },
     "output_type": "display_data"
    },
    {
     "data": {
      "image/png": "[encoded data removed]",
      "text/plain": [
       "<Figure size 1440x360 with 11 Axes>"
      ]
     },
     "metadata": {
      "needs_background": "light"
     },
     "output_type": "display_data"
    },
    {
     "data": {
      "image/png": "[encoded data removed]",
      "text/plain": [
       "<Figure size 1440x360 with 6 Axes>"
      ]
     },
     "metadata": {
      "needs_background": "light"
     },
     "output_type": "display_data"
    }
   ],
   "source": [
    "indexs = {}\n",
    "\n",
    "for i, (x, y) in enumerate(zip(predict[predict != y_test], y_test[predict != y_test])):\n",
    "    digit = f\"{y} with {x}\"\n",
    "    for j, (label, _) in enumerate(similar_top10):\n",
    "        if digit == label:\n",
    "            if j in indexs.keys():\n",
    "                indexs[j].append(i)\n",
    "            else:\n",
    "                indexs[j] = [i]\n",
    "\n",
    "X = X_test[predict != y_test]\n",
    "y = predict[predict != y_test]\n",
    "\n",
    "for i, lst in indexs.items():            \n",
    "    fig, ax = plt.subplots(1, len(lst), figsize=(20,5))\n",
    "    for j, k in enumerate(lst):\n",
    "        ax[j].imshow(X[k].reshape((28,28)), cmap=\"gray_r\")\n",
    "        ax[j].axis(\"off\")\n",
    "        ax[j].set_title(f\"It's {y[k]}\")"
   ]
  }
 ],
 "metadata": {
  "kernelspec": {
   "display_name": "Python 3",
   "language": "python",
   "name": "python3"
  },
  "language_info": {
   "codemirror_mode": {
    "name": "ipython",
    "version": 3
   },
   "file_extension": ".py",
   "mimetype": "text/x-python",
   "name": "python",
   "nbconvert_exporter": "python",
   "pygments_lexer": "ipython3",
   "version": "3.7.5rc1"
  }
 },
 "nbformat": 4,
 "nbformat_minor": 2
}
