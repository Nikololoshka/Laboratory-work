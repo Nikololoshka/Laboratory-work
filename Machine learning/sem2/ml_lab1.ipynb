{
 "cells": [
  {
   "cell_type": "markdown",
   "metadata": {},
   "source": [
    "# Векторные представления текстов"
   ]
  },
  {
   "cell_type": "markdown",
   "metadata": {},
   "source": [
    "Сравните использование CBoW-представления (сумму векторов слов) с BoW и Tf-IDF представлением на задаче сентимент-анализа. Использовать линейный классификатор. Определить, какие слова наиболее влияют на исход в рамках линейной модели. Как это сделать в BoW-модели и CBoW-модели?"
   ]
  },
  {
   "cell_type": "code",
   "execution_count": 103,
   "metadata": {},
   "outputs": [],
   "source": [
    "import re\n",
    "\n",
    "import numpy as np\n",
    "import pandas as pd\n",
    "import matplotlib.pyplot as plt\n",
    "\n",
    "from gensim.models import Word2Vec, KeyedVectors\n",
    "\n",
    "from sklearn.linear_model import LogisticRegression\n",
    "from sklearn.model_selection import train_test_split\n",
    "from sklearn.feature_extraction.text import TfidfVectorizer, CountVectorizer\n",
    "from sklearn.manifold import TSNE\n",
    "\n",
    "from nltk.corpus import stopwords\n",
    "from nltk.stem import WordNetLemmatizer"
   ]
  },
  {
   "cell_type": "markdown",
   "metadata": {},
   "source": [
    "### IMDB (Internet Movie Database) обзоры фильмов для анализа настроений"
   ]
  },
  {
   "cell_type": "code",
   "execution_count": 104,
   "metadata": {},
   "outputs": [
    {
     "data": {
      "text/html": [
       "<div>\n",
       "<style scoped>\n",
       "    .dataframe tbody tr th:only-of-type {\n",
       "        vertical-align: middle;\n",
       "    }\n",
       "\n",
       "    .dataframe tbody tr th {\n",
       "        vertical-align: top;\n",
       "    }\n",
       "\n",
       "    .dataframe thead th {\n",
       "        text-align: right;\n",
       "    }\n",
       "</style>\n",
       "<table border=\"1\" class=\"dataframe\">\n",
       "  <thead>\n",
       "    <tr style=\"text-align: right;\">\n",
       "      <th></th>\n",
       "      <th>number</th>\n",
       "      <th>type</th>\n",
       "      <th>review</th>\n",
       "      <th>label</th>\n",
       "      <th>file</th>\n",
       "    </tr>\n",
       "  </thead>\n",
       "  <tbody>\n",
       "    <tr>\n",
       "      <td>0</td>\n",
       "      <td>0</td>\n",
       "      <td>test</td>\n",
       "      <td>Once again Mr. Costner has dragged out a movie...</td>\n",
       "      <td>neg</td>\n",
       "      <td>0_2.txt</td>\n",
       "    </tr>\n",
       "    <tr>\n",
       "      <td>1</td>\n",
       "      <td>1</td>\n",
       "      <td>test</td>\n",
       "      <td>This is an example of why the majority of acti...</td>\n",
       "      <td>neg</td>\n",
       "      <td>10000_4.txt</td>\n",
       "    </tr>\n",
       "    <tr>\n",
       "      <td>2</td>\n",
       "      <td>2</td>\n",
       "      <td>test</td>\n",
       "      <td>First of all I hate those moronic rappers, who...</td>\n",
       "      <td>neg</td>\n",
       "      <td>10001_1.txt</td>\n",
       "    </tr>\n",
       "    <tr>\n",
       "      <td>3</td>\n",
       "      <td>3</td>\n",
       "      <td>test</td>\n",
       "      <td>Not even the Beatles could write songs everyon...</td>\n",
       "      <td>neg</td>\n",
       "      <td>10002_3.txt</td>\n",
       "    </tr>\n",
       "    <tr>\n",
       "      <td>4</td>\n",
       "      <td>4</td>\n",
       "      <td>test</td>\n",
       "      <td>Brass pictures (movies is not a fitting word f...</td>\n",
       "      <td>neg</td>\n",
       "      <td>10003_3.txt</td>\n",
       "    </tr>\n",
       "  </tbody>\n",
       "</table>\n",
       "</div>"
      ],
      "text/plain": [
       "   number  type                                             review label  \\\n",
       "0       0  test  Once again Mr. Costner has dragged out a movie...   neg   \n",
       "1       1  test  This is an example of why the majority of acti...   neg   \n",
       "2       2  test  First of all I hate those moronic rappers, who...   neg   \n",
       "3       3  test  Not even the Beatles could write songs everyon...   neg   \n",
       "4       4  test  Brass pictures (movies is not a fitting word f...   neg   \n",
       "\n",
       "          file  \n",
       "0      0_2.txt  \n",
       "1  10000_4.txt  \n",
       "2  10001_1.txt  \n",
       "3  10002_3.txt  \n",
       "4  10003_3.txt  "
      ]
     },
     "execution_count": 104,
     "metadata": {},
     "output_type": "execute_result"
    }
   ],
   "source": [
    "df = pd.read_csv('imdb_master.csv')\n",
    "df.head()"
   ]
  },
  {
   "cell_type": "code",
   "execution_count": 105,
   "metadata": {},
   "outputs": [
    {
     "name": "stdout",
     "output_type": "stream",
     "text": [
      "Labels type: ['neg' 'pos' 'unsup']\n",
      "Unsup count: 50000\n"
     ]
    }
   ],
   "source": [
    "print(f\"Labels type: {np.unique(df['label'])}\")\n",
    "print(f\"Unsup count: {len(df[df['label'] == 'unsup'])}\")"
   ]
  },
  {
   "cell_type": "code",
   "execution_count": 106,
   "metadata": {},
   "outputs": [],
   "source": [
    "df['label'] = df['label'].map({'neg': 0, 'pos': 1, 'unsup': -1})"
   ]
  },
  {
   "cell_type": "code",
   "execution_count": 107,
   "metadata": {},
   "outputs": [],
   "source": [
    "train = df.loc[df['type'] == 'train']\n",
    "test = df.loc[df['type'] == 'test']\n",
    "\n",
    "X_train_vec = train['review']\n",
    "y_train_vec = train['label']\n",
    "\n",
    "X_test = test['review']\n",
    "y_test = test['label']"
   ]
  },
  {
   "cell_type": "code",
   "execution_count": 108,
   "metadata": {},
   "outputs": [],
   "source": [
    "stopwords_eng = set(stopwords.words('english'))\n",
    "lemmatizer = WordNetLemmatizer()\n",
    "\n",
    "\n",
    "def cleaning(text):\n",
    "    text = text.lower()\n",
    "    text = re.sub('[^a-z]', ' ', text)\n",
    "    words = [lemmatizer.lemmatize(word) for word in text.split()]\n",
    "    return [word for word in words if word not in stopwords_eng]"
   ]
  },
  {
   "cell_type": "code",
   "execution_count": 109,
   "metadata": {},
   "outputs": [
    {
     "name": "stdout",
     "output_type": "stream",
     "text": [
      "CPU times: user 1min 2s, sys: 115 ms, total: 1min 2s\n",
      "Wall time: 1min 2s\n",
      "CPU times: user 19 s, sys: 107 ms, total: 19.1 s\n",
      "Wall time: 19.1 s\n"
     ]
    }
   ],
   "source": [
    "%time X_train_vec = X_train_vec.apply(cleaning)\n",
    "%time X_test = X_test.apply(cleaning)"
   ]
  },
  {
   "cell_type": "code",
   "execution_count": 110,
   "metadata": {},
   "outputs": [],
   "source": [
    "X_train = X_train_vec[y_train_vec != -1]\n",
    "y_train = y_train_vec[y_train_vec != -1]"
   ]
  },
  {
   "cell_type": "code",
   "execution_count": 111,
   "metadata": {},
   "outputs": [
    {
     "name": "stdout",
     "output_type": "stream",
     "text": [
      "Without unsup label: ((25000,), (25000,))\n"
     ]
    }
   ],
   "source": [
    "print(f\"Without unsup label: {X_train.shape, X_test.shape}\")"
   ]
  },
  {
   "cell_type": "code",
   "execution_count": 112,
   "metadata": {},
   "outputs": [],
   "source": [
    "X_train, X_test, y_train, y_test = train_test_split(X_train.append(X_test), y_train.append(y_test), \\\n",
    "                                                    test_size=0.2, random_state=1709)"
   ]
  },
  {
   "cell_type": "code",
   "execution_count": 113,
   "metadata": {},
   "outputs": [
    {
     "name": "stdout",
     "output_type": "stream",
     "text": [
      "Without unsup label: ((40000,), (10000,))\n"
     ]
    }
   ],
   "source": [
    "print(f\"Without unsup label: {X_train.shape, X_test.shape}\")"
   ]
  },
  {
   "cell_type": "code",
   "execution_count": 114,
   "metadata": {},
   "outputs": [
    {
     "data": {
      "text/plain": [
       "[['description',\n",
       "  'corny',\n",
       "  'utterly',\n",
       "  'stupid',\n",
       "  'worthless',\n",
       "  'cheap',\n",
       "  'lame',\n",
       "  'make',\n",
       "  'wonder',\n",
       "  'abnormally',\n",
       "  'dumb',\n",
       "  'people',\n",
       "  'even',\n",
       "  'wasted',\n",
       "  'month',\n",
       "  'spend',\n",
       "  'budget',\n",
       "  'guessing',\n",
       "  'probably',\n",
       "  'dollar',\n",
       "  'make',\n",
       "  'movie',\n",
       "  'wa',\n",
       "  'hysterical',\n",
       "  'watch',\n",
       "  'without',\n",
       "  'mystery',\n",
       "  'science',\n",
       "  'theater',\n",
       "  'giving',\n",
       "  'best',\n",
       "  'advice',\n",
       "  'world',\n",
       "  'br',\n",
       "  'br',\n",
       "  'spare',\n",
       "  'spare',\n",
       "  'time',\n",
       "  'life',\n",
       "  'money',\n",
       "  'repeat',\n",
       "  'even',\n",
       "  'ponder',\n",
       "  'whether',\n",
       "  'see',\n",
       "  'movie',\n",
       "  'movie',\n",
       "  'corny',\n",
       "  'make',\n",
       "  'face',\n",
       "  'turn',\n",
       "  'purple',\n",
       "  'outraged',\n",
       "  'boredom',\n",
       "  'one',\n",
       "  'digit',\n",
       "  'iq',\n",
       "  'guest',\n",
       "  'watch',\n",
       "  'absolutely',\n",
       "  'despicable',\n",
       "  'movie',\n",
       "  'might',\n",
       "  'actually',\n",
       "  'admire',\n",
       "  'like',\n",
       "  'said',\n",
       "  'one',\n",
       "  'digit',\n",
       "  'iq',\n",
       "  'br',\n",
       "  'br',\n",
       "  'actor',\n",
       "  'puppet',\n",
       "  'bought',\n",
       "  'garage',\n",
       "  'sale',\n",
       "  'course',\n",
       "  'camera',\n",
       "  'music',\n",
       "  'gaurentee',\n",
       "  'make',\n",
       "  'slightly',\n",
       "  'entertaining',\n",
       "  'home',\n",
       "  'video',\n",
       "  'piece',\n",
       "  'absolute',\n",
       "  'crap']]"
      ]
     },
     "execution_count": 114,
     "metadata": {},
     "output_type": "execute_result"
    }
   ],
   "source": [
    "np.random.seed(1709)\n",
    "list(X_train.sample(1))"
   ]
  },
  {
   "cell_type": "markdown",
   "metadata": {},
   "source": [
    "### BoW (Bag of words)"
   ]
  },
  {
   "cell_type": "code",
   "execution_count": 115,
   "metadata": {},
   "outputs": [],
   "source": [
    "bow_vectorizer = CountVectorizer()\n",
    "bow_train = bow_vectorizer.fit_transform(X_train.apply(lambda x: \" \".join(x)))\n",
    "bow_test = bow_vectorizer.transform(X_test.apply(lambda x: \" \".join(x)))"
   ]
  },
  {
   "cell_type": "code",
   "execution_count": 116,
   "metadata": {},
   "outputs": [
    {
     "data": {
      "text/plain": [
       "((40000, 81497), (10000, 81497))"
      ]
     },
     "execution_count": 116,
     "metadata": {},
     "output_type": "execute_result"
    }
   ],
   "source": [
    "bow_train.shape, bow_test.shape"
   ]
  },
  {
   "cell_type": "code",
   "execution_count": 134,
   "metadata": {
    "scrolled": true
   },
   "outputs": [
    {
     "name": "stdout",
     "output_type": "stream",
     "text": [
      "Score: 0.8852\n"
     ]
    }
   ],
   "source": [
    "model = LogisticRegression(solver='lbfgs', multi_class='ovr', max_iter=1000)\n",
    "model.fit(bow_train, y_train)\n",
    "\n",
    "print(f\"Score: {model.score(bow_test, y_test)}\")"
   ]
  },
  {
   "cell_type": "markdown",
   "metadata": {},
   "source": [
    "### TF-IDF"
   ]
  },
  {
   "cell_type": "code",
   "execution_count": 118,
   "metadata": {},
   "outputs": [],
   "source": [
    "tfidf_vectorizer = TfidfVectorizer()\n",
    "tfidf_train = tfidf_vectorizer.fit_transform(X_train.apply(lambda x: \" \".join(x)))\n",
    "tfidf_test = tfidf_vectorizer.transform(X_test.apply(lambda x: \" \".join(x)))"
   ]
  },
  {
   "cell_type": "code",
   "execution_count": 119,
   "metadata": {},
   "outputs": [
    {
     "data": {
      "text/plain": [
       "((40000, 81497), (10000, 81497))"
      ]
     },
     "execution_count": 119,
     "metadata": {},
     "output_type": "execute_result"
    }
   ],
   "source": [
    "tfidf_train.shape, tfidf_test.shape"
   ]
  },
  {
   "cell_type": "code",
   "execution_count": 120,
   "metadata": {},
   "outputs": [
    {
     "name": "stdout",
     "output_type": "stream",
     "text": [
      "Score: 0.8966\n"
     ]
    }
   ],
   "source": [
    "model = LogisticRegression(solver='lbfgs', multi_class='ovr', max_iter=1000)\n",
    "model.fit(tfidf_train, y_train)\n",
    "\n",
    "print(f\"Score: {model.score(tfidf_test, y_test)}\")"
   ]
  },
  {
   "cell_type": "markdown",
   "metadata": {},
   "source": [
    "### CBoW (Continuous Bag of Words) model"
   ]
  },
  {
   "cell_type": "code",
   "execution_count": 121,
   "metadata": {},
   "outputs": [
    {
     "name": "stdout",
     "output_type": "stream",
     "text": [
      "CPU times: user 2min 29s, sys: 622 ms, total: 2min 30s\n",
      "Wall time: 54.5 s\n"
     ]
    }
   ],
   "source": [
    "%time model = Word2Vec(X_train_vec, window=10, workers=4)"
   ]
  },
  {
   "cell_type": "code",
   "execution_count": 122,
   "metadata": {},
   "outputs": [
    {
     "name": "stdout",
     "output_type": "stream",
     "text": [
      "Words count: 41758\n"
     ]
    }
   ],
   "source": [
    "word_vectors = model.wv\n",
    "print(f'Words count: {len(word_vectors.vocab)}')"
   ]
  },
  {
   "cell_type": "code",
   "execution_count": 123,
   "metadata": {},
   "outputs": [
    {
     "data": {
      "text/plain": [
       "[('boy', 0.7207902669906616),\n",
       " ('virgin', 0.6572047472000122),\n",
       " ('woman', 0.6218031048774719),\n",
       " ('gal', 0.6111984848976135),\n",
       " ('teenage', 0.584984302520752),\n",
       " ('cheerleader', 0.5686829090118408),\n",
       " ('lad', 0.5591179132461548),\n",
       " ('slut', 0.5567667484283447),\n",
       " ('stripper', 0.5564807653427124),\n",
       " ('teenager', 0.5460202097892761)]"
      ]
     },
     "execution_count": 123,
     "metadata": {},
     "output_type": "execute_result"
    }
   ],
   "source": [
    "word_vectors.most_similar(\"girl\")"
   ]
  },
  {
   "cell_type": "code",
   "execution_count": 124,
   "metadata": {},
   "outputs": [
    {
     "data": {
      "text/plain": [
       "[('manga', 0.7538653016090393),\n",
       " ('animated', 0.6695896983146667),\n",
       " ('ff', 0.6604626178741455),\n",
       " ('animation', 0.6538820862770081),\n",
       " ('gundam', 0.6467862129211426),\n",
       " ('cartoon', 0.6370406746864319),\n",
       " ('dragonball', 0.6304785013198853),\n",
       " ('pokemon', 0.6280137896537781),\n",
       " ('naruto', 0.611329197883606),\n",
       " ('elfen', 0.604460597038269)]"
      ]
     },
     "execution_count": 124,
     "metadata": {},
     "output_type": "execute_result"
    }
   ],
   "source": [
    "word_vectors.most_similar(\"anime\")"
   ]
  },
  {
   "cell_type": "code",
   "execution_count": 125,
   "metadata": {},
   "outputs": [],
   "source": [
    "def to_cbow(model, tokenized_texts, word_set=None, word_weights=None, normalize=False, average=False):\n",
    "    result = []\n",
    "    assert bool(word_set) == bool(word_weights)\n",
    "    \n",
    "    for tokens in tokenized_texts:\n",
    "        if word_set:\n",
    "            tokens = [t for t in tokens if t in word_set]\n",
    "\n",
    "        # word in model.vocab - это условие можно убрать для fasttext моделей, у которых есть обработка подслов\n",
    "        word_vectors = np.array([model[word] for word in tokens if word in model.vocab])\n",
    "        if word_weights:\n",
    "            token_weights = np.array([word_weights[w] for w in tokens if w in model.vocab])\n",
    "            text_vector = np.dot(token_weights, word_vectors)\n",
    "        else:\n",
    "            text_vector = word_vectors.sum(axis=0)\n",
    "        if normalize:\n",
    "            norm = np.linalg.norm(text_vector)\n",
    "            if norm > 1e-8:\n",
    "                text_vector /= np.linalg.norm(text_vector)\n",
    "        elif average:\n",
    "            text_vector /= len(tokens)\n",
    "        result.append(text_vector)\n",
    "        \n",
    "    return np.array(result)"
   ]
  },
  {
   "cell_type": "code",
   "execution_count": 126,
   "metadata": {},
   "outputs": [],
   "source": [
    "cbow_train = to_cbow(word_vectors, X_train.values.tolist())\n",
    "cbow_test = to_cbow(word_vectors, X_test.values.tolist())"
   ]
  },
  {
   "cell_type": "code",
   "execution_count": 127,
   "metadata": {},
   "outputs": [
    {
     "name": "stdout",
     "output_type": "stream",
     "text": [
      "Score: 0.8623\n"
     ]
    }
   ],
   "source": [
    "model = LogisticRegression(solver='lbfgs', multi_class='ovr', max_iter=2000)\n",
    "model.fit(cbow_train, y_train)\n",
    "\n",
    "print(f\"Score: {model.score(cbow_test, y_test)}\")"
   ]
  },
  {
   "cell_type": "code",
   "execution_count": 128,
   "metadata": {},
   "outputs": [],
   "source": [
    "def tsne_plot(model, words):\n",
    "    labels = []\n",
    "    tokens = []\n",
    "\n",
    "    for word in words:\n",
    "        tokens.append(model[word])\n",
    "        labels.append(word)\n",
    "    \n",
    "    tsne_model = TSNE(init='pca', random_state=1709, metric='cosine', n_iter=2500)\n",
    "    new_values = tsne_model.fit_transform(tokens)\n",
    "\n",
    "    x = []\n",
    "    y = []\n",
    "    for value in new_values:\n",
    "        x.append(value[0])\n",
    "        y.append(value[1])\n",
    "        \n",
    "    plt.figure(figsize=(20, 15)) \n",
    "    for i in range(len(x)):\n",
    "        plt.scatter(x[i],y[i])\n",
    "        plt.annotate(labels[i], xy=(x[i], y[i]), xytext=(5, 2),\n",
    "                     textcoords='offset points', size=18)\n",
    "        \n",
    "    plt.show()"
   ]
  },
  {
   "cell_type": "code",
   "execution_count": 129,
   "metadata": {},
   "outputs": [
    {
     "data": {
      "image/png": "[encoded data removed]",
      "text/plain": [
       "<Figure size 1440x1080 with 1 Axes>"
      ]
     },
     "metadata": {
      "needs_background": "light"
     },
     "output_type": "display_data"
    }
   ],
   "source": [
    "tsne_plot(word_vectors, [\n",
    "    'woman', 'man', 'human',\n",
    "    'girl', 'boy', 'anime',\n",
    "    'kitchen', 'sport', \n",
    "])"
   ]
  }
 ],
 "metadata": {
  "kernelspec": {
   "display_name": "Python 3",
   "language": "python",
   "name": "python3"
  },
  "language_info": {
   "codemirror_mode": {
    "name": "ipython",
    "version": 3
   },
   "file_extension": ".py",
   "mimetype": "text/x-python",
   "name": "python",
   "nbconvert_exporter": "python",
   "pygments_lexer": "ipython3",
   "version": "3.7.5"
  }
 },
 "nbformat": 4,
 "nbformat_minor": 2
}
